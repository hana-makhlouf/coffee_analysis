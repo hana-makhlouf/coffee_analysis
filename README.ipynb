{
 "cells": [
  {
   "cell_type": "markdown",
   "metadata": {},
   "source": [
    "#### Coffee Analysis Project\n",
    "##### Author: Hana Makhlouf\n",
    "\n",
    "\n",
    "##### Description:\n",
    "\n",
    "As a coffee lover, I wanted to work on a project that incorporates coffee and code. I have also become very interested in data science after my summer internship. Therefore, I decided to find a dataset with coffee information and analyse it and create some interesting and insightful visualisation.\n",
    "\n",
    "##### Benefits:\n",
    "* Improve my Python programming skills\n",
    "* Delve more into data science\n",
    "* Learn more about coffee and the coffee industry in the past few years\n",
    "\n",
    "##### Tools used:\n",
    "\n",
    "\n",
    "##### Libraries/Packages used:\n",
    "* Pandas\n",
    "* Matplotlib\n",
    "* Seaborn\n",
    "* Pandas Profiling"
   ]
  }
 ],
 "metadata": {
  "kernelspec": {
   "display_name": "Python 3",
   "language": "python",
   "name": "python3"
  },
  "language_info": {
   "codemirror_mode": {
    "name": "ipython",
    "version": 3
   },
   "file_extension": ".py",
   "mimetype": "text/x-python",
   "name": "python",
   "nbconvert_exporter": "python",
   "pygments_lexer": "ipython3",
   "version": "3.7.7"
  }
 },
 "nbformat": 4,
 "nbformat_minor": 4
}
